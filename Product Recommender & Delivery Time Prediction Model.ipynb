{
 "cells": [
  {
   "cell_type": "markdown",
   "id": "a19b63b7",
   "metadata": {},
   "source": [
    "# Product Recommender & Delivery Time Prediction Model\n",
    "\n"
   ]
  },
  {
   "cell_type": "markdown",
   "id": "c70ba660",
   "metadata": {},
   "source": [
    "## INTRODUCTION\n",
    "\n",
    "\n",
    "In this report, we will be using the Target e-commerce sales dataset to analyze customer behavior and build a product recommender for users. The dataset encompasses detailed information on 100,000 orders placed between 2016 and 2018, including order status, pricing, payment and shipping performance, customer locations, product attributes, and customer reviews. Our primary goal is to leverage this rich dataset to identify patterns in customer purchases and recommend products based on their preferences.\n",
    "\n",
    "We will utilize the K-Means clustering algorithm to group customers by their purchasing behavior and product preferences. By understanding the similarities between customers, we can provide personalized product recommendations that enhance the shopping experience.\n",
    "\n",
    "Our analysis will focus on various features from the dataset, including product categories, order value, payment types, and customer demographics. By exploring these features, we aim to uncover insights that drive effective product recommendations, ultimately improving customer satisfaction and boosting sales.\n",
    "\n",
    "\n"
   ]
  },
  {
   "cell_type": "markdown",
   "id": "2b8ddd04",
   "metadata": {},
   "source": [
    "## Exploring the datasets (EDA)\n",
    "---\n",
    "\n",
    "let's begin by exploring the Target e-commerce sales dataset to gain insights into customer behavior and product trends. This dataset includes detailed information on 100,000 orders placed between 2016 and 2018, covering various aspects such as order status, pricing, payment and shipping performance, customer locations, product attributes, and customer reviews.\n",
    "\n"
   ]
  },
  {
   "cell_type": "markdown",
   "id": "3dc5dc0c",
   "metadata": {},
   "source": [
    "### Importing Libraries and Loading the Datasets:\n",
    "We will start by loading the relevant datasets using pandas:"
   ]
  },
  {
   "cell_type": "code",
   "execution_count": null,
   "id": "fcb2f73a",
   "metadata": {},
   "outputs": [],
   "source": [
    "# Import Libraries\n",
    "\n",
    "import pandas as pd\n",
    "from sklearn.cluster import KMeans\n",
    "from sklearn.preprocessing import StandardScaler, OneHotEncoder\n",
    "from sklearn.compose import ColumnTransformer\n",
    "from sklearn.pipeline import Pipeline\n",
    "from sklearn.metrics import silhouette_score\n",
    "import numpy as np\n",
    "import matplotlib.pyplot as plt\n",
    "import seaborn as sns\n",
    "\n",
    "from sklearn.model_selection import train_test_split, KFold, cross_val_score\n",
    "from sklearn.neighbors import NearestNeighbors\n",
    "from sklearn.tree import DecisionTreeClassifier, DecisionTreeRegressor\n",
    "from sklearn.ensemble import RandomForestRegressor, RandomForestClassifier\n",
    "from sklearn.metrics import mean_squared_error, accuracy_score, classification_report\n",
    "\n",
    "# Load datasets\n",
    "customers = pd.read_csv('customers.csv')\n",
    "order_items = pd.read_csv('order_items.csv')\n",
    "orders = pd.read_csv('orders.csv')\n",
    "payments = pd.read_csv('payments.csv')\n",
    "products = pd.read_csv('products.csv')\n",
    "\n"
   ]
  },
  {
   "cell_type": "markdown",
   "id": "ec5a0cdd",
   "metadata": {},
   "source": [
    "### Customers Analysis\n",
    "\n",
    "The dataset contains information about customers, including their location and unique identifiers.\n"
   ]
  },
  {
   "cell_type": "code",
   "execution_count": null,
   "id": "9c501da2",
   "metadata": {},
   "outputs": [],
   "source": [
    "customers.head()"
   ]
  },
  {
   "cell_type": "markdown",
   "id": "ae2d275d",
   "metadata": {},
   "source": [
    "The customers dataframe contains the variables *customer_id*, *customer_unique_id*, *customer_zip_code_prefix*, *customer_city* and *customer_state*. \n",
    "\n",
    "Now let's look at the Order Items dataset:"
   ]
  },
  {
   "cell_type": "code",
   "execution_count": null,
   "id": "8dff43f7",
   "metadata": {},
   "outputs": [],
   "source": [
    "# Distribution of customers by top 10 cities\n",
    "top_10_cities = customers['customer_city'].value_counts().head(10).index\n",
    "\n",
    "plt.figure(figsize=(10,6))\n",
    "sns.countplot(y='customer_city', data=customers[customers['customer_city'].isin(top_10_cities)], order=top_10_cities, color='lightblue')\n",
    "plt.title('Distribution of Customers by Top 10 Cities')\n",
    "plt.show()\n"
   ]
  },
  {
   "cell_type": "markdown",
   "id": "6d4060ab",
   "metadata": {},
   "source": [
    "We can see that the distribution of customers is heavily concentrated in major urban centers, particularly São Paulo and Rio de Janeiro. These cities, along with the others listed, play crucial roles in the e-commerce landscape of Brazil, driven by their economic activity, population density, and infrastructure. \n"
   ]
  },
  {
   "cell_type": "markdown",
   "id": "36a3ec32",
   "metadata": {},
   "source": [
    "### Order Items Analysis\n",
    "\n",
    "This dataset provides details individual items within each order, including product IDs and prices."
   ]
  },
  {
   "cell_type": "code",
   "execution_count": null,
   "id": "c61e709b",
   "metadata": {},
   "outputs": [],
   "source": [
    "order_items.head()"
   ]
  },
  {
   "cell_type": "markdown",
   "id": "f509e8c8",
   "metadata": {},
   "source": [
    "let's see if there are any outliers in the price column. \n",
    "\n"
   ]
  },
  {
   "cell_type": "code",
   "execution_count": null,
   "id": "2c1e74ac",
   "metadata": {},
   "outputs": [],
   "source": [
    "# Plot the box plot to show outliers\n",
    "plt.figure(figsize=(10, 6))\n",
    "sns.boxplot(x=order_items['price'], color='lightblue')\n",
    "plt.title('Box Plot of Product Prices')\n",
    "plt.xlabel('Price')\n",
    "plt.show()\n",
    "\n"
   ]
  },
  {
   "cell_type": "markdown",
   "id": "aca404a5",
   "metadata": {},
   "source": [
    "A box plot is a great way to visualize the distribution of prices and identify outliers. In the box plot, outliers appear as points outside the \"whiskers\" of the box.\n",
    "\n",
    "let's remove outliers. We will filter out values that fall outside a certain range. We'll use the Interquartile Range (IQR) method.\n",
    "\n"
   ]
  },
  {
   "cell_type": "markdown",
   "id": "e2d66828",
   "metadata": {},
   "source": [
    "- Q1: The 25th percentile (lower quartile) of the price column.\n",
    "- Q3: The 75th percentile (upper quartile) of the price column.\n",
    "\n",
    "IQR: The interquartile range, which is the difference between Q3 and Q1.\n",
    "\n",
    "Filtering: We keep only the prices that are within 1.5 times the IQR above Q3 and below Q1. This helps to remove outliers."
   ]
  },
  {
   "cell_type": "code",
   "execution_count": null,
   "id": "c41d5b59",
   "metadata": {
    "scrolled": false
   },
   "outputs": [],
   "source": [
    "# Define a function to remove outliers\n",
    "def remove_outliers(df, column):\n",
    "    Q1 = df[column].quantile(0.25)\n",
    "    Q3 = df[column].quantile(0.75)\n",
    "    IQR = Q3 - Q1\n",
    "    lower_bound = Q1 - 1.5 * IQR\n",
    "    upper_bound = Q3 + 1.5 * IQR\n",
    "    return df[(df[column] >= lower_bound) & (df[column] <= upper_bound)]\n",
    "\n",
    "# Remove outliers from the price data\n",
    "order_items_no_outliers = remove_outliers(order_items, 'price')\n",
    "\n",
    "# Plot the histogram of prices after removing outliers\n",
    "plt.figure(figsize=(10, 6))\n",
    "sns.histplot(order_items_no_outliers['price'], bins=50, kde=True, color='lightblue')\n",
    "plt.title('Distribution of Product Prices (Without Outliers)')\n",
    "plt.xlabel('Price')\n",
    "plt.ylabel('Frequency')\n",
    "plt.show()\n",
    "\n"
   ]
  },
  {
   "cell_type": "markdown",
   "id": "6b0fa3b8",
   "metadata": {},
   "source": [
    "We can see that the distribution of product price is right(positive)-skewed. "
   ]
  },
  {
   "cell_type": "markdown",
   "id": "a7ddd585",
   "metadata": {},
   "source": [
    "### Payments Analysis\n",
    "\n",
    "The dataset contains Records payment details for each order, including payment type and installment information."
   ]
  },
  {
   "cell_type": "code",
   "execution_count": null,
   "id": "5c6d2612",
   "metadata": {},
   "outputs": [],
   "source": [
    "payments.head()\n"
   ]
  },
  {
   "cell_type": "code",
   "execution_count": null,
   "id": "994cac77",
   "metadata": {
    "scrolled": false
   },
   "outputs": [],
   "source": [
    "# Payment types distribution\n",
    "plt.figure(figsize=(10,6))\n",
    "sns.countplot(y='payment_type', data=payments, order=payments['payment_type'].value_counts().index, color='lightblue')\n",
    "plt.title('Payment Types Distribution')\n",
    "plt.show()\n",
    "\n"
   ]
  },
  {
   "cell_type": "markdown",
   "id": "ff4861e1",
   "metadata": {},
   "source": [
    "The above graph shows the distribution of payment types used by customers. Credit cards are the most popular, used 76,795 times, followed by UPI with 19,784 uses. Vouchers were used 5,775 times, debit cards 1,529 times, and the \"not defined\" category was used only 3 times.\n"
   ]
  },
  {
   "cell_type": "markdown",
   "id": "1107901c",
   "metadata": {},
   "source": [
    "### Products Analysis\n",
    "\n",
    "This dataset contains product-specific information, such as category, weight, and dimensions."
   ]
  },
  {
   "cell_type": "code",
   "execution_count": null,
   "id": "fb5b82bc",
   "metadata": {},
   "outputs": [],
   "source": [
    "products.head()"
   ]
  },
  {
   "cell_type": "code",
   "execution_count": null,
   "id": "13bd0958",
   "metadata": {
    "scrolled": false
   },
   "outputs": [],
   "source": [
    "# Distribution of product categories\n",
    "plt.figure(figsize=(10,6))\n",
    "sns.countplot(y='product category', data=products, order=products['product category'].value_counts().index[:20], color='lightblue')\n",
    "plt.title('Distribution of Product Categories (Top 20)')\n",
    "plt.show()\n",
    "\n"
   ]
  },
  {
   "cell_type": "markdown",
   "id": "40527c4f",
   "metadata": {},
   "source": [
    "The most frequent product category is 'bed table bath', with a count close to 3000.\n",
    "Other top categories include 'sport leisure', 'Furniture Decoration', and 'HEALTH BEAUTY', all with high counts. The categories with the lowest counts among the top 20 include 'Construction Tools Construction' and 'home appliances'."
   ]
  },
  {
   "cell_type": "markdown",
   "id": "63a3894a",
   "metadata": {},
   "source": [
    "### Orders Analysis\n",
    "\n",
    "The dataset contains comprehensive order information, including status, timestamps, and delivery dates."
   ]
  },
  {
   "cell_type": "code",
   "execution_count": 105,
   "id": "e3009233",
   "metadata": {
    "scrolled": false
   },
   "outputs": [
    {
     "data": {
      "image/png": "[encoded data removed]",
      "text/plain": [
       "<Figure size 1000x600 with 1 Axes>"
      ]
     },
     "metadata": {},
     "output_type": "display_data"
    }
   ],
   "source": [
    "# Order status counts\n",
    "plt.figure(figsize=(10, 6))\n",
    "\n",
    "sns.countplot(data=orders, x='order_status', color='lightblue')\n",
    "plt.title('Order Status Counts')\n",
    "plt.xlabel('Order Status')\n",
    "plt.ylabel('Count')\n",
    "plt.xticks(rotation=45)\n",
    "plt.show()\n",
    "\n"
   ]
  },
  {
   "cell_type": "code",
   "execution_count": 106,
   "id": "a52810bc",
   "metadata": {},
   "outputs": [
    {
     "data": {
      "text/plain": [
       "order_status\n",
       "delivered      96478\n",
       "shipped         1107\n",
       "canceled         625\n",
       "unavailable      609\n",
       "invoiced         314\n",
       "processing       301\n",
       "created            5\n",
       "approved           2\n",
       "Name: count, dtype: int64"
      ]
     },
     "execution_count": 106,
     "metadata": {},
     "output_type": "execute_result"
    }
   ],
   "source": [
    "order_status_counts = orders['order_status'].value_counts()\n",
    "order_status_counts"
   ]
  },
  {
   "cell_type": "markdown",
   "id": "87de7cad",
   "metadata": {},
   "source": [
    "The most common status is \"delivered,\" occurring 96,478 times, indicating orders that have been successfully completed and received by customers. The next most frequent status is \"shipped,\" with 1,107 occurrences. \"Canceled\" orders, where customers have decided to cancel their purchases, are recorded 625 times. There are only a few orders in the \"created\" (5 occurrences) and \"approved\" (2 occurrences) statuses, suggesting newly created and approved orders that are in the initial stages of processing. \n"
   ]
  },
  {
   "cell_type": "code",
   "execution_count": 107,
   "id": "b3eaf2b0",
   "metadata": {
    "scrolled": false
   },
   "outputs": [
    {
     "data": {
      "image/png": "[encoded data removed]",
      "text/plain": [
       "<Figure size 1000x600 with 1 Axes>"
      ]
     },
     "metadata": {},
     "output_type": "display_data"
    }
   ],
   "source": [
    "# Number of orders by state\n",
    "plt.figure(figsize=(10, 6))\n",
    "order_state_counts = orders.merge(customers, on='customer_id')['customer_state'].value_counts()\n",
    "order_state_counts.plot(kind='bar')\n",
    "plt.title('Number of Orders by State')\n",
    "plt.xlabel('State')\n",
    "plt.ylabel('Number of Orders')\n",
    "plt.show()\n",
    "\n"
   ]
  },
  {
   "cell_type": "markdown",
   "id": "a4cced88",
   "metadata": {},
   "source": [
    "The above graph show, São Paulo (SP) has the highest number of customers with 41,746, followed by Rio de Janeiro (RJ) with 12,852 and Minas Gerais (MG) with 11,635 customers. Rio Grande do Sul (RS) and Paraná (PR) have 5,466 and 5,045 customers respectively, while Santa Catarina (SC) follows closely with 3,637 customers. The states with fewer customers include Acre (AC) and Amapá (AP) with 81 and 68 customers respectively. "
   ]
  },
  {
   "cell_type": "code",
   "execution_count": 108,
   "id": "d044a213",
   "metadata": {
    "scrolled": false
   },
   "outputs": [
    {
     "data": {
      "image/png": "[encoded data removed]",
      "text/plain": [
       "<Figure size 1200x800 with 1 Axes>"
      ]
     },
     "metadata": {},
     "output_type": "display_data"
    }
   ],
   "source": [
    "# Merge order_items and products datasets\n",
    "order_items_products = order_items.merge(products, on='product_id')\n",
    "\n",
    "# Calculate average order value by product category\n",
    "avg_order_value_by_category = order_items_products.groupby('product category')['price'].mean()\n",
    "\n",
    "# Select top 10 categories\n",
    "top_10_categories = avg_order_value_by_category.sort_values(ascending=False).head(10)\n",
    "\n",
    "# Plot the top 10 categories as a horizontal bar chart\n",
    "plt.figure(figsize=(12, 8))\n",
    "top_10_categories.sort_values().plot(kind='barh')\n",
    "plt.title('Average Order Value by Top 10 Product Categories')\n",
    "plt.xlabel('Average Order Value')\n",
    "plt.ylabel('Product Category')\n",
    "plt.show()\n",
    "\n"
   ]
  },
  {
   "cell_type": "markdown",
   "id": "21bac253",
   "metadata": {},
   "source": [
    "Among the top 10 categories listed, PCs have the highest average price. "
   ]
  },
  {
   "cell_type": "code",
   "execution_count": 109,
   "id": "eeee067a",
   "metadata": {
    "scrolled": true
   },
   "outputs": [
    {
     "name": "stdout",
     "output_type": "stream",
     "text": [
      "\n",
      "Missing Values:\n",
      "Customers:\n",
      "customer_id                 0\n",
      "customer_unique_id          0\n",
      "customer_zip_code_prefix    0\n",
      "customer_city               0\n",
      "customer_state              0\n",
      "dtype: int64\n",
      "\n",
      "Order Items:\n",
      "order_id               0\n",
      "order_item_id          0\n",
      "product_id             0\n",
      "seller_id              0\n",
      "shipping_limit_date    0\n",
      "price                  0\n",
      "freight_value          0\n",
      "dtype: int64\n",
      "\n",
      "Payments:\n",
      "order_id                0\n",
      "payment_sequential      0\n",
      "payment_type            0\n",
      "payment_installments    0\n",
      "payment_value           0\n",
      "dtype: int64\n",
      "\n",
      "Orders:\n",
      "order_id                            0\n",
      "customer_id                         0\n",
      "order_status                        0\n",
      "order_purchase_timestamp            0\n",
      "order_approved_at                 160\n",
      "order_delivered_carrier_date     1783\n",
      "order_delivered_customer_date    2965\n",
      "order_estimated_delivery_date       0\n",
      "dtype: int64\n",
      "\n",
      "Products:\n",
      "product_id                      0\n",
      "product category              610\n",
      "product_name_length           610\n",
      "product_description_length    610\n",
      "product_photos_qty            610\n",
      "product_weight_g                2\n",
      "product_length_cm               2\n",
      "product_height_cm               2\n",
      "product_width_cm                2\n",
      "dtype: int64\n"
     ]
    }
   ],
   "source": [
    "print(\"\\nMissing Values:\")\n",
    "print(\"Customers:\")\n",
    "print(customers.isnull().sum())\n",
    "print(\"\\nOrder Items:\")\n",
    "print(order_items.isnull().sum())\n",
    "print(\"\\nPayments:\")\n",
    "print(payments.isnull().sum())\n",
    "print(\"\\nOrders:\")\n",
    "print(orders.isnull().sum())\n",
    "print(\"\\nProducts:\")\n",
    "print(products.isnull().sum())\n",
    "\n"
   ]
  },
  {
   "cell_type": "markdown",
   "id": "c66465e8",
   "metadata": {},
   "source": [
    "As per the above output, only Orders and Products has missing values.\n",
    "\n",
    "**Orders:**\n",
    "\n",
    "- order_approved_at: 160 missing values.\n",
    "- order_delivered_carrier_date: 1,783 missing values.\n",
    "- order_delivered_customer_date: 2,965 missing values.\n",
    "- No missing values in order_id, customer_id, order_status, order_purchase_timestamp, and order_estimated_delivery_date.\n",
    "\n",
    "**Products:**\n",
    "\n",
    "- 610 missing values in product category, product_name_length, product_description_length, and product_photos_qty.\n",
    "- 2 missing values in product_weight_g, product_length_cm, product_height_cm, and product_width_cm."
   ]
  },
  {
   "cell_type": "markdown",
   "id": "468ec86a",
   "metadata": {},
   "source": [
    "Let's remove the missing values"
   ]
  },
  {
   "cell_type": "code",
   "execution_count": 110,
   "id": "66b24c0e",
   "metadata": {},
   "outputs": [],
   "source": [
    "customers.dropna(inplace=True)\n",
    "order_items.dropna(inplace=True)\n",
    "payments.dropna(inplace=True)\n",
    "products.dropna(inplace=True)\n",
    "orders.dropna(inplace=True)\n"
   ]
  },
  {
   "cell_type": "markdown",
   "id": "df2aed88",
   "metadata": {},
   "source": [
    "Now, we will ensures that numerical columns like payment values, prices, freight values, and product dimensions are correctly interpreted as float types. \n",
    "\n",
    "Let's merges datasets—customers, orders, order items, payments, and products—into a single cohesive dataset. This consolidation is essential for integrating diverse information related to customers, their orders, payment details, and product specifics into a merged data.\n"
   ]
  },
  {
   "cell_type": "code",
   "execution_count": 111,
   "id": "e5a7cf89",
   "metadata": {},
   "outputs": [
    {
     "data": {
      "text/html": [
       "<div>\n",
       "<style scoped>\n",
       "    .dataframe tbody tr th:only-of-type {\n",
       "        vertical-align: middle;\n",
       "    }\n",
       "\n",
       "    .dataframe tbody tr th {\n",
       "        vertical-align: top;\n",
       "    }\n",
       "\n",
       "    .dataframe thead th {\n",
       "        text-align: right;\n",
       "    }\n",
       "</style>\n",
       "<table border=\"1\" class=\"dataframe\">\n",
       "  <thead>\n",
       "    <tr style=\"text-align: right;\">\n",
       "      <th></th>\n",
       "      <th>customer_id</th>\n",
       "      <th>customer_unique_id</th>\n",
       "      <th>customer_zip_code_prefix</th>\n",
       "      <th>customer_city</th>\n",
       "      <th>customer_state</th>\n",
       "      <th>order_id</th>\n",
       "      <th>order_status</th>\n",
       "      <th>order_purchase_timestamp</th>\n",
       "      <th>order_approved_at</th>\n",
       "      <th>order_delivered_carrier_date</th>\n",
       "      <th>order_delivered_customer_date</th>\n",
       "      <th>order_estimated_delivery_date</th>\n",
       "      <th>order_item_id</th>\n",
       "      <th>product_id</th>\n",
       "      <th>seller_id</th>\n",
       "      <th>shipping_limit_date</th>\n",
       "      <th>price</th>\n",
       "      <th>freight_value</th>\n",
       "      <th>payment_sequential</th>\n",
       "      <th>payment_type</th>\n",
       "      <th>payment_installments</th>\n",
       "      <th>payment_value</th>\n",
       "      <th>product category</th>\n",
       "      <th>product_name_length</th>\n",
       "      <th>product_description_length</th>\n",
       "      <th>product_photos_qty</th>\n",
       "      <th>product_weight_g</th>\n",
       "      <th>product_length_cm</th>\n",
       "      <th>product_height_cm</th>\n",
       "      <th>product_width_cm</th>\n",
       "    </tr>\n",
       "  </thead>\n",
       "  <tbody>\n",
       "    <tr>\n",
       "      <th>0</th>\n",
       "      <td>06b8999e2fba1a1fbc88172c00ba8bc7</td>\n",
       "      <td>861eff4711a542e4b93843c6dd7febb0</td>\n",
       "      <td>14409</td>\n",
       "      <td>franca</td>\n",
       "      <td>SP</td>\n",
       "      <td>00e7ee1b050b8499577073aeb2a297a1</td>\n",
       "      <td>delivered</td>\n",
       "      <td>2017-05-16 15:05:35</td>\n",
       "      <td>2017-05-16 15:22:12</td>\n",
       "      <td>2017-05-23 10:47:57</td>\n",
       "      <td>2017-05-25 10:35:35</td>\n",
       "      <td>2017-06-05 00:00:00</td>\n",
       "      <td>1</td>\n",
       "      <td>a9516a079e37a9c9c36b9b78b10169e8</td>\n",
       "      <td>7c67e1448b00f6e969d365cea6b010ab</td>\n",
       "      <td>2017-05-22 15:22:12</td>\n",
       "      <td>124.99</td>\n",
       "      <td>21.88</td>\n",
       "      <td>1</td>\n",
       "      <td>credit_card</td>\n",
       "      <td>2</td>\n",
       "      <td>146.87</td>\n",
       "      <td>Furniture office</td>\n",
       "      <td>41.0</td>\n",
       "      <td>1141.0</td>\n",
       "      <td>1.0</td>\n",
       "      <td>8683.0</td>\n",
       "      <td>54.0</td>\n",
       "      <td>64.0</td>\n",
       "      <td>31.0</td>\n",
       "    </tr>\n",
       "    <tr>\n",
       "      <th>1</th>\n",
       "      <td>8912fc0c3bbf1e2fbf35819e21706718</td>\n",
       "      <td>9eae34bbd3a474ec5d07949ca7de67c0</td>\n",
       "      <td>68030</td>\n",
       "      <td>santarem</td>\n",
       "      <td>PA</td>\n",
       "      <td>c1d2b34febe9cd269e378117d6681172</td>\n",
       "      <td>delivered</td>\n",
       "      <td>2017-11-09 00:50:13</td>\n",
       "      <td>2017-11-10 00:47:48</td>\n",
       "      <td>2017-11-22 01:43:37</td>\n",
       "      <td>2017-11-28 00:09:50</td>\n",
       "      <td>2017-12-19 00:00:00</td>\n",
       "      <td>1</td>\n",
       "      <td>a9516a079e37a9c9c36b9b78b10169e8</td>\n",
       "      <td>7c67e1448b00f6e969d365cea6b010ab</td>\n",
       "      <td>2017-11-23 00:47:18</td>\n",
       "      <td>112.99</td>\n",
       "      <td>24.90</td>\n",
       "      <td>1</td>\n",
       "      <td>credit_card</td>\n",
       "      <td>1</td>\n",
       "      <td>275.79</td>\n",
       "      <td>Furniture office</td>\n",
       "      <td>41.0</td>\n",
       "      <td>1141.0</td>\n",
       "      <td>1.0</td>\n",
       "      <td>8683.0</td>\n",
       "      <td>54.0</td>\n",
       "      <td>64.0</td>\n",
       "      <td>31.0</td>\n",
       "    </tr>\n",
       "    <tr>\n",
       "      <th>2</th>\n",
       "      <td>8912fc0c3bbf1e2fbf35819e21706718</td>\n",
       "      <td>9eae34bbd3a474ec5d07949ca7de67c0</td>\n",
       "      <td>68030</td>\n",
       "      <td>santarem</td>\n",
       "      <td>PA</td>\n",
       "      <td>c1d2b34febe9cd269e378117d6681172</td>\n",
       "      <td>delivered</td>\n",
       "      <td>2017-11-09 00:50:13</td>\n",
       "      <td>2017-11-10 00:47:48</td>\n",
       "      <td>2017-11-22 01:43:37</td>\n",
       "      <td>2017-11-28 00:09:50</td>\n",
       "      <td>2017-12-19 00:00:00</td>\n",
       "      <td>2</td>\n",
       "      <td>a9516a079e37a9c9c36b9b78b10169e8</td>\n",
       "      <td>7c67e1448b00f6e969d365cea6b010ab</td>\n",
       "      <td>2017-11-23 00:47:18</td>\n",
       "      <td>112.99</td>\n",
       "      <td>24.90</td>\n",
       "      <td>1</td>\n",
       "      <td>credit_card</td>\n",
       "      <td>1</td>\n",
       "      <td>275.79</td>\n",
       "      <td>Furniture office</td>\n",
       "      <td>41.0</td>\n",
       "      <td>1141.0</td>\n",
       "      <td>1.0</td>\n",
       "      <td>8683.0</td>\n",
       "      <td>54.0</td>\n",
       "      <td>64.0</td>\n",
       "      <td>31.0</td>\n",
       "    </tr>\n",
       "    <tr>\n",
       "      <th>3</th>\n",
       "      <td>f0ac8e5a239118859b1734e1087cbb1f</td>\n",
       "      <td>3c799d181c34d51f6d44bbbc563024db</td>\n",
       "      <td>92480</td>\n",
       "      <td>nova santa rita</td>\n",
       "      <td>RS</td>\n",
       "      <td>b1a5d5365d330d10485e0203d54ab9e8</td>\n",
       "      <td>delivered</td>\n",
       "      <td>2017-05-07 20:11:26</td>\n",
       "      <td>2017-05-08 22:22:56</td>\n",
       "      <td>2017-05-19 20:16:31</td>\n",
       "      <td>2017-05-26 09:54:04</td>\n",
       "      <td>2017-06-12 00:00:00</td>\n",
       "      <td>1</td>\n",
       "      <td>a9516a079e37a9c9c36b9b78b10169e8</td>\n",
       "      <td>7c67e1448b00f6e969d365cea6b010ab</td>\n",
       "      <td>2017-05-22 22:22:56</td>\n",
       "      <td>124.99</td>\n",
       "      <td>15.62</td>\n",
       "      <td>1</td>\n",
       "      <td>credit_card</td>\n",
       "      <td>7</td>\n",
       "      <td>140.61</td>\n",
       "      <td>Furniture office</td>\n",
       "      <td>41.0</td>\n",
       "      <td>1141.0</td>\n",
       "      <td>1.0</td>\n",
       "      <td>8683.0</td>\n",
       "      <td>54.0</td>\n",
       "      <td>64.0</td>\n",
       "      <td>31.0</td>\n",
       "    </tr>\n",
       "    <tr>\n",
       "      <th>4</th>\n",
       "      <td>6bc8d08963a135220ed6c6d098831f84</td>\n",
       "      <td>23397e992b09769faf5e66f9e171a241</td>\n",
       "      <td>25931</td>\n",
       "      <td>mage</td>\n",
       "      <td>RJ</td>\n",
       "      <td>2e604b3614664aa66867856dba7e61b7</td>\n",
       "      <td>delivered</td>\n",
       "      <td>2018-02-03 19:45:40</td>\n",
       "      <td>2018-02-04 22:29:19</td>\n",
       "      <td>2018-02-19 18:21:47</td>\n",
       "      <td>2018-02-28 21:09:00</td>\n",
       "      <td>2018-03-22 00:00:00</td>\n",
       "      <td>1</td>\n",
       "      <td>a9516a079e37a9c9c36b9b78b10169e8</td>\n",
       "      <td>7c67e1448b00f6e969d365cea6b010ab</td>\n",
       "      <td>2018-02-18 21:29:19</td>\n",
       "      <td>106.99</td>\n",
       "      <td>30.59</td>\n",
       "      <td>1</td>\n",
       "      <td>credit_card</td>\n",
       "      <td>10</td>\n",
       "      <td>137.58</td>\n",
       "      <td>Furniture office</td>\n",
       "      <td>41.0</td>\n",
       "      <td>1141.0</td>\n",
       "      <td>1.0</td>\n",
       "      <td>8683.0</td>\n",
       "      <td>54.0</td>\n",
       "      <td>64.0</td>\n",
       "      <td>31.0</td>\n",
       "    </tr>\n",
       "  </tbody>\n",
       "</table>\n",
       "</div>"
      ],
      "text/plain": [
       "                        customer_id                customer_unique_id  \\\n",
       "0  06b8999e2fba1a1fbc88172c00ba8bc7  861eff4711a542e4b93843c6dd7febb0   \n",
       "1  8912fc0c3bbf1e2fbf35819e21706718  9eae34bbd3a474ec5d07949ca7de67c0   \n",
       "2  8912fc0c3bbf1e2fbf35819e21706718  9eae34bbd3a474ec5d07949ca7de67c0   \n",
       "3  f0ac8e5a239118859b1734e1087cbb1f  3c799d181c34d51f6d44bbbc563024db   \n",
       "4  6bc8d08963a135220ed6c6d098831f84  23397e992b09769faf5e66f9e171a241   \n",
       "\n",
       "   customer_zip_code_prefix    customer_city customer_state  \\\n",
       "0                     14409           franca             SP   \n",
       "1                     68030         santarem             PA   \n",
       "2                     68030         santarem             PA   \n",
       "3                     92480  nova santa rita             RS   \n",
       "4                     25931             mage             RJ   \n",
       "\n",
       "                           order_id order_status order_purchase_timestamp  \\\n",
       "0  00e7ee1b050b8499577073aeb2a297a1    delivered      2017-05-16 15:05:35   \n",
       "1  c1d2b34febe9cd269e378117d6681172    delivered      2017-11-09 00:50:13   \n",
       "2  c1d2b34febe9cd269e378117d6681172    delivered      2017-11-09 00:50:13   \n",
       "3  b1a5d5365d330d10485e0203d54ab9e8    delivered      2017-05-07 20:11:26   \n",
       "4  2e604b3614664aa66867856dba7e61b7    delivered      2018-02-03 19:45:40   \n",
       "\n",
       "     order_approved_at order_delivered_carrier_date  \\\n",
       "0  2017-05-16 15:22:12          2017-05-23 10:47:57   \n",
       "1  2017-11-10 00:47:48          2017-11-22 01:43:37   \n",
       "2  2017-11-10 00:47:48          2017-11-22 01:43:37   \n",
       "3  2017-05-08 22:22:56          2017-05-19 20:16:31   \n",
       "4  2018-02-04 22:29:19          2018-02-19 18:21:47   \n",
       "\n",
       "  order_delivered_customer_date order_estimated_delivery_date  order_item_id  \\\n",
       "0           2017-05-25 10:35:35           2017-06-05 00:00:00              1   \n",
       "1           2017-11-28 00:09:50           2017-12-19 00:00:00              1   \n",
       "2           2017-11-28 00:09:50           2017-12-19 00:00:00              2   \n",
       "3           2017-05-26 09:54:04           2017-06-12 00:00:00              1   \n",
       "4           2018-02-28 21:09:00           2018-03-22 00:00:00              1   \n",
       "\n",
       "                         product_id                         seller_id  \\\n",
       "0  a9516a079e37a9c9c36b9b78b10169e8  7c67e1448b00f6e969d365cea6b010ab   \n",
       "1  a9516a079e37a9c9c36b9b78b10169e8  7c67e1448b00f6e969d365cea6b010ab   \n",
       "2  a9516a079e37a9c9c36b9b78b10169e8  7c67e1448b00f6e969d365cea6b010ab   \n",
       "3  a9516a079e37a9c9c36b9b78b10169e8  7c67e1448b00f6e969d365cea6b010ab   \n",
       "4  a9516a079e37a9c9c36b9b78b10169e8  7c67e1448b00f6e969d365cea6b010ab   \n",
       "\n",
       "   shipping_limit_date   price  freight_value  payment_sequential  \\\n",
       "0  2017-05-22 15:22:12  124.99          21.88                   1   \n",
       "1  2017-11-23 00:47:18  112.99          24.90                   1   \n",
       "2  2017-11-23 00:47:18  112.99          24.90                   1   \n",
       "3  2017-05-22 22:22:56  124.99          15.62                   1   \n",
       "4  2018-02-18 21:29:19  106.99          30.59                   1   \n",
       "\n",
       "  payment_type  payment_installments  payment_value  product category  \\\n",
       "0  credit_card                     2         146.87  Furniture office   \n",
       "1  credit_card                     1         275.79  Furniture office   \n",
       "2  credit_card                     1         275.79  Furniture office   \n",
       "3  credit_card                     7         140.61  Furniture office   \n",
       "4  credit_card                    10         137.58  Furniture office   \n",
       "\n",
       "   product_name_length  product_description_length  product_photos_qty  \\\n",
       "0                 41.0                      1141.0                 1.0   \n",
       "1                 41.0                      1141.0                 1.0   \n",
       "2                 41.0                      1141.0                 1.0   \n",
       "3                 41.0                      1141.0                 1.0   \n",
       "4                 41.0                      1141.0                 1.0   \n",
       "\n",
       "   product_weight_g  product_length_cm  product_height_cm  product_width_cm  \n",
       "0            8683.0               54.0               64.0              31.0  \n",
       "1            8683.0               54.0               64.0              31.0  \n",
       "2            8683.0               54.0               64.0              31.0  \n",
       "3            8683.0               54.0               64.0              31.0  \n",
       "4            8683.0               54.0               64.0              31.0  "
      ]
     },
     "execution_count": 111,
     "metadata": {},
     "output_type": "execute_result"
    }
   ],
   "source": [
    "# Ensure numerical columns are of correct type\n",
    "payments['payment_value'] = payments['payment_value'].astype(float)\n",
    "order_items['price'] = order_items['price'].astype(float)\n",
    "order_items['freight_value'] = order_items['freight_value'].astype(float)\n",
    "products['product_weight_g'] = products['product_weight_g'].astype(float)\n",
    "products['product_length_cm'] = products['product_length_cm'].astype(float)\n",
    "products['product_height_cm'] = products['product_height_cm'].astype(float)\n",
    "payments['payment_type'] = payments['payment_type'].astype(str)\n",
    "\n",
    "\n",
    "# Merge datasets\n",
    "merged_data = pd.merge(customers, orders, on='customer_id', how='inner')\n",
    "merged_data = pd.merge(merged_data, order_items, on='order_id', how='inner')\n",
    "merged_data = pd.merge(merged_data, payments, on='order_id', how='inner')\n",
    "merged_data = pd.merge(merged_data, products, on='product_id', how='inner')\n",
    "\n",
    "pd.set_option('display.max_columns', None)\n",
    "\n",
    "merged_data.head()\n",
    "\n"
   ]
  },
  {
   "cell_type": "code",
   "execution_count": 112,
   "id": "ac20f6da",
   "metadata": {},
   "outputs": [
    {
     "data": {
      "text/html": [
       "<div>\n",
       "<style scoped>\n",
       "    .dataframe tbody tr th:only-of-type {\n",
       "        vertical-align: middle;\n",
       "    }\n",
       "\n",
       "    .dataframe tbody tr th {\n",
       "        vertical-align: top;\n",
       "    }\n",
       "\n",
       "    .dataframe thead th {\n",
       "        text-align: right;\n",
       "    }\n",
       "</style>\n",
       "<table border=\"1\" class=\"dataframe\">\n",
       "  <thead>\n",
       "    <tr style=\"text-align: right;\">\n",
       "      <th></th>\n",
       "      <th>customer_unique_id</th>\n",
       "      <th>total_spent</th>\n",
       "      <th>order_frequency</th>\n",
       "      <th>customer_city</th>\n",
       "      <th>customer_state</th>\n",
       "    </tr>\n",
       "  </thead>\n",
       "  <tbody>\n",
       "    <tr>\n",
       "      <th>0</th>\n",
       "      <td>0000366f3b9a7992bf8c76cfdf3221e2</td>\n",
       "      <td>141.90</td>\n",
       "      <td>1</td>\n",
       "      <td>cajamar</td>\n",
       "      <td>SP</td>\n",
       "    </tr>\n",
       "    <tr>\n",
       "      <th>1</th>\n",
       "      <td>0000b849f77a49e4a4ce2b2a4ca5be3f</td>\n",
       "      <td>27.19</td>\n",
       "      <td>1</td>\n",
       "      <td>osasco</td>\n",
       "      <td>SP</td>\n",
       "    </tr>\n",
       "    <tr>\n",
       "      <th>2</th>\n",
       "      <td>0000f46a3911fa3c0805444483337064</td>\n",
       "      <td>86.22</td>\n",
       "      <td>1</td>\n",
       "      <td>sao jose</td>\n",
       "      <td>SC</td>\n",
       "    </tr>\n",
       "    <tr>\n",
       "      <th>3</th>\n",
       "      <td>0000f6ccb0745a6a4b88665a16c9f078</td>\n",
       "      <td>43.62</td>\n",
       "      <td>1</td>\n",
       "      <td>belem</td>\n",
       "      <td>PA</td>\n",
       "    </tr>\n",
       "    <tr>\n",
       "      <th>4</th>\n",
       "      <td>0004aac84e0df4da2b147fca70cf8255</td>\n",
       "      <td>196.89</td>\n",
       "      <td>1</td>\n",
       "      <td>sorocaba</td>\n",
       "      <td>SP</td>\n",
       "    </tr>\n",
       "  </tbody>\n",
       "</table>\n",
       "</div>"
      ],
      "text/plain": [
       "                 customer_unique_id  total_spent  order_frequency  \\\n",
       "0  0000366f3b9a7992bf8c76cfdf3221e2       141.90                1   \n",
       "1  0000b849f77a49e4a4ce2b2a4ca5be3f        27.19                1   \n",
       "2  0000f46a3911fa3c0805444483337064        86.22                1   \n",
       "3  0000f6ccb0745a6a4b88665a16c9f078        43.62                1   \n",
       "4  0004aac84e0df4da2b147fca70cf8255       196.89                1   \n",
       "\n",
       "  customer_city customer_state  \n",
       "0       cajamar             SP  \n",
       "1        osasco             SP  \n",
       "2      sao jose             SC  \n",
       "3         belem             PA  \n",
       "4      sorocaba             SP  "
      ]
     },
     "execution_count": 112,
     "metadata": {},
     "output_type": "execute_result"
    }
   ],
   "source": [
    "\n",
    "# Feature engineering: Calculate total_spent and order_frequency per customer\n",
    "customer_data = merged_data.groupby('customer_unique_id').agg({\n",
    "    'payment_value': 'sum',        # total amount paid by the customer\n",
    "    'order_id': 'nunique',         # count of unique orders made by the customer\n",
    "    'customer_city': 'first',      # example of retaining a categorical feature\n",
    "    'customer_state': 'first'      # example of retaining a categorical feature\n",
    "}).reset_index()\n",
    "\n",
    "customer_data.columns = ['customer_unique_id', 'total_spent', 'order_frequency', 'customer_city', 'customer_state']\n",
    "\n",
    "customer_data.head()"
   ]
  },
  {
   "cell_type": "markdown",
   "id": "a4c8f599",
   "metadata": {},
   "source": [
    "We have used feature engineering, where it calculates two new metrics per customer: total_spent, which sums up all payments made by each customer, and order_frequency, which counts how many unique orders each customer has placed.\n"
   ]
  },
  {
   "cell_type": "markdown",
   "id": "0d0aa6ed",
   "metadata": {},
   "source": [
    "## KMeans Clustering for Customer Segmentation\n",
    "\n",
    "let's begin with preprocessing pipeline (preprocessor) using ColumnTransformer to handle both numerical and categorical features separately. Numerical features are normalized using StandardScaler to ensure they have consistent scales, while categorical features are transformed into a numeric format (binary vectors) using OneHotEncoder. This preprocessing step ensures that the data is ready for training machine learning models that require numerical inputs."
   ]
  },
  {
   "cell_type": "code",
   "execution_count": 113,
   "id": "5fe32617",
   "metadata": {},
   "outputs": [],
   "source": [
    "# Normalize numerical features\n",
    "num_features = ['total_spent', 'order_frequency']\n",
    "num_transformer = Pipeline(steps=[\n",
    "    ('scaler', StandardScaler())\n",
    "])\n",
    "\n",
    "# One-hot encode categorical features\n",
    "cat_features = ['customer_city', 'customer_state']\n",
    "cat_transformer = Pipeline(steps=[\n",
    "    ('onehot', OneHotEncoder(handle_unknown='ignore'))\n",
    "])\n",
    "\n",
    "# ColumnTransformer to combine numerical and categorical features\n",
    "preprocessor = ColumnTransformer(\n",
    "    transformers=[\n",
    "        ('num', num_transformer, num_features),\n",
    "        ('cat', cat_transformer, cat_features)\n",
    "])\n",
    "\n",
    "# Apply preprocessing\n",
    "customer_data_preprocessed = preprocessor.fit_transform(customer_data[['total_spent', 'order_frequency', 'customer_city', 'customer_state']])\n"
   ]
  },
  {
   "cell_type": "markdown",
   "id": "2a0c6405",
   "metadata": {},
   "source": [
    "Now, we will perform K-fold cross-validation for the K-means clustering model."
   ]
  },
  {
   "cell_type": "code",
   "execution_count": 114,
   "id": "16a84cc2",
   "metadata": {},
   "outputs": [
    {
     "name": "stdout",
     "output_type": "stream",
     "text": [
      "Silhouette scores for each fold: [0.6598460781878096, 0.6669908998479813, 0.6683823919233647, 0.6692717520849586, 0.6545644691305654]\n",
      "Mean silhouette score across all folds: 0.6638111182349359\n"
     ]
    }
   ],
   "source": [
    "# Number of folds\n",
    "k_folds = 5\n",
    "\n",
    "# Initialize KFold\n",
    "kf = KFold(n_splits=k_folds, shuffle=True, random_state=42)\n",
    "\n",
    "# Store silhouette scores for each fold\n",
    "silhouette_scores = []\n",
    "\n",
    "# Perform K-fold cross-validation\n",
    "for train_index, test_index in kf.split(customer_data_preprocessed):\n",
    "    # Split the data\n",
    "    X_train, X_test = customer_data_preprocessed[train_index], customer_data_preprocessed[test_index]\n",
    "    \n",
    "    # Apply K-means clustering with the best k on training data\n",
    "    kmeans = KMeans(n_clusters=3, n_init=10, random_state=42)\n",
    "    kmeans.fit(X_train)\n",
    "    \n",
    "    # Predict cluster labels for test data\n",
    "    cluster_labels = kmeans.predict(X_test)\n",
    "    \n",
    "    # Calculate silhouette score for test data\n",
    "    silhouette_avg = silhouette_score(X_test, cluster_labels)\n",
    "    silhouette_scores.append(silhouette_avg)\n",
    "\n",
    "# Print the silhouette scores for each fold and the mean silhouette score\n",
    "print(f\"Silhouette scores for each fold: {silhouette_scores}\")\n",
    "print(f\"Mean silhouette score across all folds: {np.mean(silhouette_scores)}\")\n"
   ]
  },
  {
   "cell_type": "markdown",
   "id": "1ecf073a",
   "metadata": {},
   "source": [
    "As per the above output, the silhouette scores obtained from each fold during K-fold cross-validation, as well as the mean silhouette score across all folds. \n",
    "\n",
    "Silhouette Scores for Each Fold\n",
    "- Fold 1: 0.18179608119366164\n",
    "- Fold 2: 0.6577261112327982\n",
    "- Fold 3: 0.6564905143692071\n",
    "- Fold 4: 0.6655830456143171\n",
    "- Fold 5: 0.6525212767624803\n",
    "\n",
    "Mean Silhouette Score(Mean across all folds): 0.5628234058344929\n",
    "\n",
    "**Interpretation**\n",
    "\n",
    "- Variation in Scores: The silhouette scores vary significantly across the different folds, with Fold 1 having a notably lower score (0.1818) compared to the others (ranging from 0.6525 to 0.6656). This suggests that the clustering quality varies depending on the data split.\n",
    "\n",
    "- Mean Score: The mean silhouette score of 0.5628 indicates that, on average, the clustering quality is moderately good. Silhouette scores range from -1 to 1, with higher values indicating better-defined clusters. A score around 0.5628 suggests that the clusters are reasonably well-defined but not perfect.\n",
    "\n",
    "- Consistency: While most folds have high silhouette scores, the low score in the first fold indicates that the model might be sensitive to how the data is split. This might suggest that some clusters are more defined in certain data splits than others.\n",
    "\n",
    "Therefore, the mean silhouette score of 0.5628 suggests that the K-means clustering model with the chosen features and preprocessing is reasonably effective in identifying clusters within the customer data. However, the variation in scores across folds indicates some instability, which could be explored further by examining the data split or refining the features and preprocessing steps.\n"
   ]
  },
  {
   "cell_type": "code",
   "execution_count": 124,
   "id": "f3498ca3",
   "metadata": {
    "scrolled": false
   },
   "outputs": [
    {
     "name": "stdout",
     "output_type": "stream",
     "text": [
      "For k=2, the average silhouette score is: 0.675267455753434\n",
      "For k=3, the average silhouette score is: 0.663540159102969\n",
      "For k=4, the average silhouette score is: 0.18392274137319214\n",
      "For k=5, the average silhouette score is: 0.1880395210433171\n",
      "For k=6, the average silhouette score is: 0.1909599987178171\n",
      "For k=7, the average silhouette score is: 0.23766795148520548\n",
      "For k=8, the average silhouette score is: 0.2665753562207959\n",
      "For k=9, the average silhouette score is: 0.24646656622226776\n",
      "For k=10, the average silhouette score is: 0.27159033301974195\n",
      "Best k based on silhouette score: 2\n"
     ]
    }
   ],
   "source": [
    "# Find optimal k using silhouette score\n",
    "max_k = 10  # maximum number of clusters to try\n",
    "best_k = 2  # initialize with a default value\n",
    "best_silhouette_score = -1.0  # initialize with a very low score\n",
    "\n",
    "for k in range(2, max_k + 1):\n",
    "    kmeans = KMeans(n_clusters=k, n_init = 10, random_state=42)\n",
    "    cluster_labels = kmeans.fit_predict(customer_data_preprocessed)\n",
    "    silhouette_avg = silhouette_score(customer_data_preprocessed, cluster_labels)\n",
    "    print(f\"For k={k}, the average silhouette score is: {silhouette_avg}\")\n",
    "    \n",
    "    if silhouette_avg > best_silhouette_score:\n",
    "        best_silhouette_score = silhouette_avg\n",
    "        best_k = k\n",
    "\n",
    "print(f\"Best k based on silhouette score: {best_k}\")\n",
    "\n"
   ]
  },
  {
   "cell_type": "markdown",
   "id": "f370081d",
   "metadata": {},
   "source": [
    "Using K-Means clustering, we segmented customers based on their purchasing behavior. The optimal number of clusters was determined using silhouette scores. The average silhouette scores calculated for different values of k in a clustering algorithm. \n",
    "As per the output, k=2 provides the highest silhouette score, indicating the most appropriate number of clusters for this dataset based on the cohesion and separation of data points within and between clusters.\n"
   ]
  },
  {
   "cell_type": "markdown",
   "id": "204d81fc",
   "metadata": {},
   "source": [
    "However, the silhouette score for k=2 is 0.675267455753434 and for k=3 is 0.663540159102969. Both values are very close; therefore, we will choose k=3. Having more clusters (k=3) will likely provide a more accurate and well-clustered result compared to the clusters of k=2.\n"
   ]
  },
  {
   "cell_type": "code",
   "execution_count": 116,
   "id": "557c9a33",
   "metadata": {
    "scrolled": false
   },
   "outputs": [
    {
     "data": {
      "image/png": "[encoded data removed]",
      "text/plain": [
       "<Figure size 640x480 with 1 Axes>"
      ]
     },
     "metadata": {},
     "output_type": "display_data"
    }
   ],
   "source": [
    "import matplotlib.pyplot as plt\n",
    "from sklearn.cluster import KMeans\n",
    "from sklearn.metrics import silhouette_score\n",
    "\n",
    "# Range of possible k values\n",
    "possible_k_values = range(2, 11)\n",
    "errors_per_k = []\n",
    "\n",
    "# Calculate silhouette score for each k\n",
    "for k in possible_k_values:\n",
    "    kmeans = KMeans(n_clusters=k, n_init=10, random_state=42)\n",
    "    labels = kmeans.fit_predict(customer_data_preprocessed)\n",
    "    silhouette_avg = silhouette_score(customer_data_preprocessed, labels)\n",
    "    errors_per_k.append(silhouette_avg)\n",
    "\n",
    "# Plot the silhouette coefficients\n",
    "fig = plt.figure()\n",
    "ax = plt.axes()\n",
    "ax.plot(possible_k_values, errors_per_k)\n",
    "plt.xlabel('Number of clusters, k')\n",
    "plt.ylabel('Silhouette Coefficient')\n",
    "plt.title('Silhouette Coefficient for different k values')\n",
    "plt.show()\n",
    "\n",
    "# Apply K-means clustering with the best k\n",
    "final_kmeans = KMeans(n_clusters=3, n_init = 10, random_state=42)\n",
    "customer_data['cluster'] = final_kmeans.fit_predict(customer_data_preprocessed)\n"
   ]
  },
  {
   "cell_type": "markdown",
   "id": "6b9c26c4",
   "metadata": {},
   "source": [
    "There is a drop in Silhouette Coefficient for k above 3. Based on this plot we might choose a value for k = 3. "
   ]
  },
  {
   "cell_type": "markdown",
   "id": "32d96ec9",
   "metadata": {},
   "source": [
    "let's take best_k = 2 \n"
   ]
  },
  {
   "cell_type": "code",
   "execution_count": 134,
   "id": "9ab1674f",
   "metadata": {
    "scrolled": false
   },
   "outputs": [
    {
     "data": {
      "image/png": "[encoded data removed]",
      "text/plain": [
       "<Figure size 1000x600 with 1 Axes>"
      ]
     },
     "metadata": {},
     "output_type": "display_data"
    }
   ],
   "source": [
    "best_k = 2\n",
    "\n",
    "# Create a scatter plot\n",
    "plt.figure(figsize=(10, 6))\n",
    "\n",
    "# Plot each cluster with a different color\n",
    "for cluster in range(best_k):\n",
    "    cluster_data = customer_data[customer_data['cluster'] == cluster]\n",
    "    plt.scatter(cluster_data['total_spent'], cluster_data['order_frequency'], label=f'Cluster {cluster}', s=50, alpha=0.6)\n",
    "\n",
    "\n",
    "plt.title('Customer Segmentation based on K-Means Clustering')\n",
    "plt.xlabel('Total Spent')\n",
    "plt.ylabel('Order Frequency')\n",
    "plt.ylim(0, 10)    \n",
    "plt.legend()\n",
    "plt.show()\n",
    "\n"
   ]
  },
  {
   "cell_type": "code",
   "execution_count": 135,
   "id": "20f57730",
   "metadata": {
    "scrolled": false
   },
   "outputs": [
    {
     "data": {
      "image/png": "[encoded data removed]",
      "text/plain": [
       "<Figure size 1000x600 with 1 Axes>"
      ]
     },
     "metadata": {},
     "output_type": "display_data"
    }
   ],
   "source": [
    "best_k = 3\n",
    "\n",
    "# Create a scatter plot\n",
    "plt.figure(figsize=(10, 6))\n",
    "\n",
    "# Plot each cluster with a different color\n",
    "for cluster in range(best_k):\n",
    "    cluster_data = customer_data[customer_data['cluster'] == cluster]\n",
    "    plt.scatter(cluster_data['total_spent'], cluster_data['order_frequency'], label=f'Cluster {cluster}', s=50, alpha=0.6)\n",
    "\n",
    "plt.title('Customer Segmentation based on K-Means Clustering')\n",
    "plt.xlabel('Total Spent')\n",
    "plt.ylabel('Order Frequency')\n",
    "\n",
    "plt.xlim(0, 30000)  \n",
    "plt.ylim(0, 10)    \n",
    "\n",
    "plt.legend()\n",
    "plt.show()"
   ]
  },
  {
   "cell_type": "markdown",
   "id": "799900b7",
   "metadata": {},
   "source": [
    "After comparing the graphs for both k=2 and k=3, we can conclude that k=3 would be the best choice for clustering to achieve better performance of the model.\n",
    "\n"
   ]
  },
  {
   "cell_type": "markdown",
   "id": "e356afbc",
   "metadata": {},
   "source": [
    "### Product Recommendation\n",
    "\n",
    "Using the clusters identified, we recommended products to customers based on the popular products within their cluster.\n",
    "\n"
   ]
  },
  {
   "cell_type": "code",
   "execution_count": 130,
   "id": "cbb966c1",
   "metadata": {},
   "outputs": [
    {
     "name": "stdout",
     "output_type": "stream",
     "text": [
      "Recommended products for customer 5aa9e4fdd4dfd20959cad2d772509598: ['Furniture Decoration', 'bed table bath', 'Garden tools', 'Garden tools', 'Garden tools']\n"
     ]
    }
   ],
   "source": [
    "\n",
    "# Recommending products based on clusters\n",
    "def recommend_products_for_customer(customer_id, num_recommendations=5):\n",
    "    # Get customer unique ID\n",
    "    customer_unique_id = customers[customers['customer_id'] == customer_id]['customer_unique_id'].values[0]\n",
    "    \n",
    "    # Find the cluster for this customer\n",
    "    customer_cluster = customer_data[customer_data['customer_unique_id'] == customer_unique_id]['cluster'].values[0]\n",
    "    \n",
    "    # Get customer IDs in the same cluster\n",
    "    cluster_customers = customer_data[customer_data['cluster'] == customer_cluster]['customer_unique_id']\n",
    "    \n",
    "    # Find popular products among customers in this cluster\n",
    "    popular_products = merged_data[merged_data['customer_unique_id'].isin(cluster_customers)]\n",
    "    popular_products = popular_products.groupby(['product_id', 'product category']).size().sort_values(ascending=False)\n",
    "    \n",
    "    # Get top recommended products\n",
    "    top_products = popular_products.head(num_recommendations).index.tolist()\n",
    "    \n",
    "    # Retrieve product names\n",
    "    recommended_product_names = []\n",
    "    for product_id, product_category in top_products:\n",
    "        product_name = merged_data[merged_data['product_id'] == product_id]['product category'].values[0]\n",
    "        recommended_product_names.append(product_name)\n",
    "    \n",
    "    return recommended_product_names\n",
    "\n",
    "# Testing the model with a random customer ID\n",
    "customer_id_to_recommend = '5aa9e4fdd4dfd20959cad2d772509598'  \n",
    "recommended_products = recommend_products_for_customer(customer_id_to_recommend)\n",
    "print(f\"Recommended products for customer {customer_id_to_recommend}: {recommended_products}\")"
   ]
  },
  {
   "cell_type": "markdown",
   "id": "b5a8ef29",
   "metadata": {},
   "source": [
    "As per the output 'Furniture Decoration', 'bed table bath', 'Garden tools', 'Garden tools', 'Garden tools', the top 5 recommended product categories for the customer with ID '5aa9e4fdd4dfd20959cad2d772509598' based on the purchasing behavior of customers in the same cluster. These recommendations are derived from the clustering analysis, suggesting that customers in this cluster commonly purchase items from these categories.\n"
   ]
  },
  {
   "cell_type": "code",
   "execution_count": 131,
   "id": "b06ae7b1",
   "metadata": {},
   "outputs": [
    {
     "name": "stdout",
     "output_type": "stream",
     "text": [
      "Recommended products for customer 1617b1357756262bfa56ab541c47bc16: ['telephony', 'automotive', 'computer accessories', 'Furniture Decoration', 'Garden tools']\n"
     ]
    }
   ],
   "source": [
    "# Testing the model with a random customer ID\n",
    "customer_id_to_recommend = '1617b1357756262bfa56ab541c47bc16'  \n",
    "recommended_products = recommend_products_for_customer(customer_id_to_recommend)\n",
    "print(f\"Recommended products for customer {customer_id_to_recommend}: {recommended_products}\")"
   ]
  },
  {
   "cell_type": "code",
   "execution_count": 132,
   "id": "8a83a4fe",
   "metadata": {},
   "outputs": [
    {
     "name": "stdout",
     "output_type": "stream",
     "text": [
      "Recommended products for customer 3f6ede29d4c69cd3316d2035b6cec1fb: ['HEALTH BEAUTY', 'bed table bath', 'Garden tools', 'computer accessories', 'bed table bath']\n"
     ]
    }
   ],
   "source": [
    "# Testing the model with a random customer ID\n",
    "customer_id_to_recommend = '3f6ede29d4c69cd3316d2035b6cec1fb'  \n",
    "recommended_products = recommend_products_for_customer(customer_id_to_recommend)\n",
    "print(f\"Recommended products for customer {customer_id_to_recommend}: {recommended_products}\")"
   ]
  },
  {
   "cell_type": "markdown",
   "id": "cc70999f",
   "metadata": {},
   "source": [
    "The recommended products ('HEALTH BEAUTY', 'bed table bath', 'Garden tools', 'computer accessories', 'bed table bath') are those that are popular or frequently purchased by the customer (customer_id: '3f6ede29d4c69cd3316d2035b6cec1fb') in terms of their purchasing behavior.\n",
    "\n",
    "\n",
    "Let's see all custers"
   ]
  },
  {
   "cell_type": "code",
   "execution_count": 133,
   "id": "838291b8",
   "metadata": {},
   "outputs": [
    {
     "data": {
      "text/html": [
       "<div>\n",
       "<style scoped>\n",
       "    .dataframe tbody tr th:only-of-type {\n",
       "        vertical-align: middle;\n",
       "    }\n",
       "\n",
       "    .dataframe tbody tr th {\n",
       "        vertical-align: top;\n",
       "    }\n",
       "\n",
       "    .dataframe thead th {\n",
       "        text-align: right;\n",
       "    }\n",
       "</style>\n",
       "<table border=\"1\" class=\"dataframe\">\n",
       "  <thead>\n",
       "    <tr style=\"text-align: right;\">\n",
       "      <th></th>\n",
       "      <th>customer_unique_id</th>\n",
       "      <th>total_spent</th>\n",
       "      <th>order_frequency</th>\n",
       "      <th>customer_city</th>\n",
       "      <th>customer_state</th>\n",
       "      <th>cluster</th>\n",
       "    </tr>\n",
       "  </thead>\n",
       "  <tbody>\n",
       "    <tr>\n",
       "      <th>0</th>\n",
       "      <td>0000366f3b9a7992bf8c76cfdf3221e2</td>\n",
       "      <td>141.90</td>\n",
       "      <td>1</td>\n",
       "      <td>cajamar</td>\n",
       "      <td>SP</td>\n",
       "      <td>0</td>\n",
       "    </tr>\n",
       "    <tr>\n",
       "      <th>1</th>\n",
       "      <td>0000b849f77a49e4a4ce2b2a4ca5be3f</td>\n",
       "      <td>27.19</td>\n",
       "      <td>1</td>\n",
       "      <td>osasco</td>\n",
       "      <td>SP</td>\n",
       "      <td>0</td>\n",
       "    </tr>\n",
       "    <tr>\n",
       "      <th>2</th>\n",
       "      <td>0000f46a3911fa3c0805444483337064</td>\n",
       "      <td>86.22</td>\n",
       "      <td>1</td>\n",
       "      <td>sao jose</td>\n",
       "      <td>SC</td>\n",
       "      <td>0</td>\n",
       "    </tr>\n",
       "    <tr>\n",
       "      <th>3</th>\n",
       "      <td>0000f6ccb0745a6a4b88665a16c9f078</td>\n",
       "      <td>43.62</td>\n",
       "      <td>1</td>\n",
       "      <td>belem</td>\n",
       "      <td>PA</td>\n",
       "      <td>0</td>\n",
       "    </tr>\n",
       "    <tr>\n",
       "      <th>4</th>\n",
       "      <td>0004aac84e0df4da2b147fca70cf8255</td>\n",
       "      <td>196.89</td>\n",
       "      <td>1</td>\n",
       "      <td>sorocaba</td>\n",
       "      <td>SP</td>\n",
       "      <td>0</td>\n",
       "    </tr>\n",
       "  </tbody>\n",
       "</table>\n",
       "</div>"
      ],
      "text/plain": [
       "                 customer_unique_id  total_spent  order_frequency  \\\n",
       "0  0000366f3b9a7992bf8c76cfdf3221e2       141.90                1   \n",
       "1  0000b849f77a49e4a4ce2b2a4ca5be3f        27.19                1   \n",
       "2  0000f46a3911fa3c0805444483337064        86.22                1   \n",
       "3  0000f6ccb0745a6a4b88665a16c9f078        43.62                1   \n",
       "4  0004aac84e0df4da2b147fca70cf8255       196.89                1   \n",
       "\n",
       "  customer_city customer_state  cluster  \n",
       "0       cajamar             SP        0  \n",
       "1        osasco             SP        0  \n",
       "2      sao jose             SC        0  \n",
       "3         belem             PA        0  \n",
       "4      sorocaba             SP        0  "
      ]
     },
     "execution_count": 133,
     "metadata": {},
     "output_type": "execute_result"
    }
   ],
   "source": [
    "customer_data[customer_data['cluster']==0].head()"
   ]
  },
  {
   "cell_type": "code",
   "execution_count": 83,
   "id": "85cf7fcf",
   "metadata": {},
   "outputs": [
    {
     "data": {
      "text/html": [
       "<div>\n",
       "<style scoped>\n",
       "    .dataframe tbody tr th:only-of-type {\n",
       "        vertical-align: middle;\n",
       "    }\n",
       "\n",
       "    .dataframe tbody tr th {\n",
       "        vertical-align: top;\n",
       "    }\n",
       "\n",
       "    .dataframe thead th {\n",
       "        text-align: right;\n",
       "    }\n",
       "</style>\n",
       "<table border=\"1\" class=\"dataframe\">\n",
       "  <thead>\n",
       "    <tr style=\"text-align: right;\">\n",
       "      <th></th>\n",
       "      <th>customer_unique_id</th>\n",
       "      <th>total_spent</th>\n",
       "      <th>order_frequency</th>\n",
       "      <th>customer_city</th>\n",
       "      <th>customer_state</th>\n",
       "      <th>cluster</th>\n",
       "    </tr>\n",
       "  </thead>\n",
       "  <tbody>\n",
       "    <tr>\n",
       "      <th>103</th>\n",
       "      <td>004288347e5e88a27ded2bb23747066c</td>\n",
       "      <td>354.37</td>\n",
       "      <td>2</td>\n",
       "      <td>nova iguacu</td>\n",
       "      <td>RJ</td>\n",
       "      <td>1</td>\n",
       "    </tr>\n",
       "    <tr>\n",
       "      <th>241</th>\n",
       "      <td>00a39521eb40f7012db50455bf083460</td>\n",
       "      <td>123.25</td>\n",
       "      <td>2</td>\n",
       "      <td>brasilia</td>\n",
       "      <td>DF</td>\n",
       "      <td>1</td>\n",
       "    </tr>\n",
       "    <tr>\n",
       "      <th>303</th>\n",
       "      <td>00cc12a6d8b578b8ebd21ea4e2ae8b27</td>\n",
       "      <td>126.20</td>\n",
       "      <td>2</td>\n",
       "      <td>sao paulo</td>\n",
       "      <td>SP</td>\n",
       "      <td>1</td>\n",
       "    </tr>\n",
       "    <tr>\n",
       "      <th>401</th>\n",
       "      <td>011575986092c30523ecb71ff10cb473</td>\n",
       "      <td>214.90</td>\n",
       "      <td>2</td>\n",
       "      <td>belo horizonte</td>\n",
       "      <td>MG</td>\n",
       "      <td>1</td>\n",
       "    </tr>\n",
       "    <tr>\n",
       "      <th>416</th>\n",
       "      <td>011b4adcd54683b480c4d841250a987f</td>\n",
       "      <td>386.18</td>\n",
       "      <td>2</td>\n",
       "      <td>santo amaro</td>\n",
       "      <td>BA</td>\n",
       "      <td>1</td>\n",
       "    </tr>\n",
       "  </tbody>\n",
       "</table>\n",
       "</div>"
      ],
      "text/plain": [
       "                   customer_unique_id  total_spent  order_frequency  \\\n",
       "103  004288347e5e88a27ded2bb23747066c       354.37                2   \n",
       "241  00a39521eb40f7012db50455bf083460       123.25                2   \n",
       "303  00cc12a6d8b578b8ebd21ea4e2ae8b27       126.20                2   \n",
       "401  011575986092c30523ecb71ff10cb473       214.90                2   \n",
       "416  011b4adcd54683b480c4d841250a987f       386.18                2   \n",
       "\n",
       "      customer_city customer_state  cluster  \n",
       "103     nova iguacu             RJ        1  \n",
       "241        brasilia             DF        1  \n",
       "303       sao paulo             SP        1  \n",
       "401  belo horizonte             MG        1  \n",
       "416     santo amaro             BA        1  "
      ]
     },
     "execution_count": 83,
     "metadata": {},
     "output_type": "execute_result"
    }
   ],
   "source": [
    "customer_data[customer_data['cluster']==1].head()"
   ]
  },
  {
   "cell_type": "code",
   "execution_count": 81,
   "id": "a9993e86",
   "metadata": {},
   "outputs": [
    {
     "data": {
      "text/html": [
       "<div>\n",
       "<style scoped>\n",
       "    .dataframe tbody tr th:only-of-type {\n",
       "        vertical-align: middle;\n",
       "    }\n",
       "\n",
       "    .dataframe tbody tr th {\n",
       "        vertical-align: top;\n",
       "    }\n",
       "\n",
       "    .dataframe thead th {\n",
       "        text-align: right;\n",
       "    }\n",
       "</style>\n",
       "<table border=\"1\" class=\"dataframe\">\n",
       "  <thead>\n",
       "    <tr style=\"text-align: right;\">\n",
       "      <th></th>\n",
       "      <th>customer_unique_id</th>\n",
       "      <th>total_spent</th>\n",
       "      <th>order_frequency</th>\n",
       "      <th>customer_city</th>\n",
       "      <th>customer_state</th>\n",
       "      <th>cluster</th>\n",
       "    </tr>\n",
       "  </thead>\n",
       "  <tbody>\n",
       "    <tr>\n",
       "      <th>3676</th>\n",
       "      <td>0a0a92112bd4c708ca5fde585afaa872</td>\n",
       "      <td>109312.64</td>\n",
       "      <td>1</td>\n",
       "      <td>rio de janeiro</td>\n",
       "      <td>RJ</td>\n",
       "      <td>2</td>\n",
       "    </tr>\n",
       "    <tr>\n",
       "      <th>5554</th>\n",
       "      <td>0f5ac8d5c31de21d2f25e24be15bbffb</td>\n",
       "      <td>19342.26</td>\n",
       "      <td>2</td>\n",
       "      <td>uniao da vitoria</td>\n",
       "      <td>PR</td>\n",
       "      <td>2</td>\n",
       "    </tr>\n",
       "    <tr>\n",
       "      <th>9949</th>\n",
       "      <td>1b76903617af13189607a36b0469f6f3</td>\n",
       "      <td>19174.38</td>\n",
       "      <td>1</td>\n",
       "      <td>sao luis</td>\n",
       "      <td>MA</td>\n",
       "      <td>2</td>\n",
       "    </tr>\n",
       "    <tr>\n",
       "      <th>11798</th>\n",
       "      <td>20a5257c01689ac69410a14cb51bb447</td>\n",
       "      <td>17671.00</td>\n",
       "      <td>1</td>\n",
       "      <td>diadema</td>\n",
       "      <td>SP</td>\n",
       "      <td>2</td>\n",
       "    </tr>\n",
       "    <tr>\n",
       "      <th>18010</th>\n",
       "      <td>31e412b9fb766b6794724ed17a41dfa6</td>\n",
       "      <td>14196.28</td>\n",
       "      <td>1</td>\n",
       "      <td>santos</td>\n",
       "      <td>SP</td>\n",
       "      <td>2</td>\n",
       "    </tr>\n",
       "  </tbody>\n",
       "</table>\n",
       "</div>"
      ],
      "text/plain": [
       "                     customer_unique_id  total_spent  order_frequency  \\\n",
       "3676   0a0a92112bd4c708ca5fde585afaa872    109312.64                1   \n",
       "5554   0f5ac8d5c31de21d2f25e24be15bbffb     19342.26                2   \n",
       "9949   1b76903617af13189607a36b0469f6f3     19174.38                1   \n",
       "11798  20a5257c01689ac69410a14cb51bb447     17671.00                1   \n",
       "18010  31e412b9fb766b6794724ed17a41dfa6     14196.28                1   \n",
       "\n",
       "          customer_city customer_state  cluster  \n",
       "3676     rio de janeiro             RJ        2  \n",
       "5554   uniao da vitoria             PR        2  \n",
       "9949           sao luis             MA        2  \n",
       "11798           diadema             SP        2  \n",
       "18010            santos             SP        2  "
      ]
     },
     "execution_count": 81,
     "metadata": {},
     "output_type": "execute_result"
    }
   ],
   "source": [
    "customer_data[customer_data['cluster']==2].head()"
   ]
  },
  {
   "cell_type": "markdown",
   "id": "355774da",
   "metadata": {},
   "source": [
    "### Delivery Time Prediction\n",
    "\n",
    "We used a Decision Tree Classifier to predict whether an order would be delivered early based on various features.\n",
    "\n",
    "Let's employs feature engineering to derive meaningful predictors (delivery_time, early_delivery), then we will preprocesses the data to handle numerical and categorical variables appropriately. \n"
   ]
  },
  {
   "cell_type": "code",
   "execution_count": 29,
   "id": "1ff852c6",
   "metadata": {},
   "outputs": [],
   "source": [
    "import pandas as pd\n",
    "from sklearn.model_selection import train_test_split\n",
    "from sklearn.tree import DecisionTreeClassifier\n",
    "from sklearn.metrics import classification_report, confusion_matrix, accuracy_score\n",
    "from sklearn.preprocessing import OneHotEncoder, StandardScaler\n",
    "from sklearn.compose import ColumnTransformer\n",
    "from sklearn.pipeline import Pipeline\n",
    "\n",
    "\n",
    "# Feature Engineering\n",
    "# Create a feature 'delivery_time' which is the difference between the estimated delivery date and the actual delivery date\n",
    "merged_data['order_estimated_delivery_date'] = pd.to_datetime(merged_data['order_estimated_delivery_date'])\n",
    "merged_data['order_delivered_customer_date'] = pd.to_datetime(merged_data['order_delivered_customer_date'])\n",
    "merged_data['delivery_time'] = (merged_data['order_estimated_delivery_date'] - merged_data['order_delivered_customer_date']).dt.days\n",
    "\n",
    "# Create the target variable 'early_delivery' (1 if the product was delivered early, 0 otherwise)\n",
    "merged_data['early_delivery'] = (merged_data['delivery_time'] > 0).astype(int)\n",
    "\n",
    "merged_data.dropna(inplace = True)\n",
    "\n",
    "# Select features for the model\n",
    "# Adding categorical features such as payment_type, customer_city, and customer_state\n",
    "features = ['price', 'freight_value', 'payment_value', 'product_name_length', \n",
    "            'product_description_length', 'product_photos_qty', 'product_weight_g', \n",
    "            'product_length_cm', 'product_height_cm', 'product_width_cm',\n",
    "            'payment_type', 'customer_city', 'customer_state']\n",
    "\n",
    "X = merged_data[features]\n",
    "y = merged_data['early_delivery']\n",
    "\n",
    "# Preprocessing\n",
    "# Identify categorical and numerical features\n",
    "categorical_features = ['payment_type', 'customer_city', 'customer_state']\n",
    "numerical_features = ['price', 'freight_value', 'payment_value', 'product_name_length', \n",
    "                      'product_description_length', 'product_photos_qty', 'product_weight_g', \n",
    "                      'product_length_cm', 'product_height_cm', 'product_width_cm']\n",
    "\n",
    "# Preprocessing pipelines for both numerical and categorical features\n",
    "numerical_transformer = StandardScaler()\n",
    "categorical_transformer = OneHotEncoder(handle_unknown='ignore')\n",
    "\n"
   ]
  },
  {
   "cell_type": "markdown",
   "id": "00117c7e",
   "metadata": {},
   "source": [
    "Now, let's build a predictive model using a decision tree classifier, and evaluates its performance in predicting early deliveries based on the chosen features. This approach aims to enhance logistics and operational efficiency by predicting delivery timeliness."
   ]
  },
  {
   "cell_type": "code",
   "execution_count": 30,
   "id": "02d93308",
   "metadata": {},
   "outputs": [
    {
     "name": "stdout",
     "output_type": "stream",
     "text": [
      "Accuracy: 0.8601875532821824\n",
      "Confusion Matrix:\n",
      " [[  856  2329]\n",
      " [ 2427 28405]]\n",
      "Classification Report:\n",
      "               precision    recall  f1-score   support\n",
      "\n",
      "           0       0.26      0.27      0.26      3185\n",
      "           1       0.92      0.92      0.92     30832\n",
      "\n",
      "    accuracy                           0.86     34017\n",
      "   macro avg       0.59      0.60      0.59     34017\n",
      "weighted avg       0.86      0.86      0.86     34017\n",
      "\n"
     ]
    }
   ],
   "source": [
    "# Bundle preprocessing for numerical and categorical data\n",
    "preprocessor = ColumnTransformer(\n",
    "    transformers=[\n",
    "        ('num', numerical_transformer, numerical_features),\n",
    "        ('cat', categorical_transformer, categorical_features)\n",
    "    ])\n",
    "\n",
    "model = Pipeline(steps=[\n",
    "    ('preprocessor', preprocessor),\n",
    "    ('classifier', DecisionTreeClassifier(random_state=42))\n",
    "])\n",
    "\n",
    "# Split the data into training and testing sets\n",
    "X_train, X_test, y_train, y_test = train_test_split(X, y, test_size=0.3, random_state=42)\n",
    "\n",
    "# Build and train the model\n",
    "model.fit(X_train, y_train)\n",
    "\n",
    "# Predict on the test data\n",
    "y_pred = model.predict(X_test)\n",
    "\n",
    "# Evaluate the model\n",
    "print(\"Accuracy:\", accuracy_score(y_test, y_pred))\n",
    "print(\"Confusion Matrix:\\n\", confusion_matrix(y_test, y_pred))\n",
    "print(\"Classification Report:\\n\", classification_report(y_test, y_pred))\n"
   ]
  },
  {
   "cell_type": "markdown",
   "id": "7cd00c9a",
   "metadata": {},
   "source": [
    "As per the output, the model achieves an accuracy of approximately 86%. It correctly predicts 28% of early deliveries (class 0) and 92% of non-early deliveries (class 1). The precision, recall, and F1-score for both classes indicate a strong performance in predicting non-early deliveries, with weaker performance on early deliveries due to lower recall.\n"
   ]
  },
  {
   "cell_type": "code",
   "execution_count": 31,
   "id": "f8f5fe80",
   "metadata": {},
   "outputs": [
    {
     "name": "stdout",
     "output_type": "stream",
     "text": [
      "Cross-Validation Scores:  [0.8626863  0.86312726 0.86542023 0.86449422 0.86092248]\n",
      "Mean Cross-Validation Score:  0.8633300996560542\n"
     ]
    }
   ],
   "source": [
    "from sklearn.model_selection import train_test_split, cross_val_score, KFold\n",
    "\n",
    "# Apply k-fold cross-validation\n",
    "kfold = KFold(n_splits=5, shuffle=True, random_state=42)\n",
    "cv_results = cross_val_score(model, X, y, cv=kfold, scoring='accuracy')\n",
    "\n",
    "print(\"Cross-Validation Scores: \", cv_results)\n",
    "print(\"Mean Cross-Validation Score: \", np.mean(cv_results))"
   ]
  },
  {
   "cell_type": "markdown",
   "id": "f7987072",
   "metadata": {},
   "source": [
    "The cross-validation process yields scores of approximately 86.41%, 86.31%, 86.18%, 86.25%, and 86.49% across five folds. The mean cross-validation score, calculated as the average of these scores, is approximately 86.33%. This indicates a consistent and robust performance of the model across different subsets of the data during validation.\n"
   ]
  },
  {
   "cell_type": "markdown",
   "id": "fd9da3dd",
   "metadata": {},
   "source": [
    "### Results\n",
    "\n",
    "The clustering analysis determined the optimal number of clusters (k=3) based on silhouette scores. Product recommendations were made based on cluster popularity, providing personalized suggestions for customers.\n",
    "\n",
    "The Decision Tree model achieved an accuracy of 86.16% in predicting early deliveries, with a precision of 0.92 for on-time deliveries. The model was evaluated using cross-validation to ensure robustness, achieving a mean cross-validation score of 86.33%.\n",
    "\n"
   ]
  },
  {
   "cell_type": "markdown",
   "id": "6e070de6",
   "metadata": {},
   "source": [
    "## Conclusion\n",
    "\n",
    "#### Insights and Recommendations\n",
    "- Customer Segmentation: The clustering analysis provides clear insights into customer segments based on purchasing behavior. These segments can guide targeted marketing strategies and personalized promotions to improve customer engagement and retention.\n",
    "\n",
    "- Product Recommendations: Leveraging the clustering results, ongoing efforts can be made to refine and optimize product recommendations further. This could involve integrating real-time data and feedback to continuously enhance the relevance and effectiveness of recommendations.\n",
    "\n",
    "- Operational Efficiency: The predictive model for delivery times offers significant potential in optimizing logistics and resource allocation. By accurately predicting delivery times, businesses can streamline operations, reduce costs, and enhance overall service levels.\n",
    "\n",
    "\n",
    "In conclusion, the analysis and modeling efforts presented in the report provide actionable insights for improving customer experience, optimizing operations, and driving business growth in e-commerce. By understanding customer preferences, predicting delivery times, and offering personalized recommendations, businesses can foster stronger customer relationships and competitive advantage in the market."
   ]
  },
  {
   "cell_type": "code",
   "execution_count": null,
   "id": "d18149c3",
   "metadata": {},
   "outputs": [],
   "source": []
  }
 ],
 "metadata": {
  "kernelspec": {
   "display_name": "Python 3 (ipykernel)",
   "language": "python",
   "name": "python3"
  },
  "language_info": {
   "codemirror_mode": {
    "name": "ipython",
    "version": 3
   },
   "file_extension": ".py",
   "mimetype": "text/x-python",
   "name": "python",
   "nbconvert_exporter": "python",
   "pygments_lexer": "ipython3",
   "version": "3.11.7"
  }
 },
 "nbformat": 4,
 "nbformat_minor": 5
}
